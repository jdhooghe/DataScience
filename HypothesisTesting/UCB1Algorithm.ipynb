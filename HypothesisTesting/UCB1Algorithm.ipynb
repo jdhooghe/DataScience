{
 "cells": [
  {
   "cell_type": "code",
   "execution_count": 34,
   "metadata": {},
   "outputs": [],
   "source": [
    "import numpy as np\n",
    "import pandas as pd\n",
    "import matplotlib.pyplot as plt "
   ]
  },
  {
   "cell_type": "markdown",
   "metadata": {},
   "source": [
    "We first organize this such that A and B are competing advertisements with each click being at the same iteration."
   ]
  },
  {
   "cell_type": "code",
   "execution_count": 65,
   "metadata": {},
   "outputs": [],
   "source": [
    "A = np.random.binomial(1, 0.8, size = 10000)\n",
    "B = np.random.binomial(1, 0.6, size = 10000)"
   ]
  },
  {
   "cell_type": "markdown",
   "metadata": {},
   "source": [
    "There are equal numbers which means we can treat each observation as a moment in time."
   ]
  },
  {
   "cell_type": "code",
   "execution_count": 79,
   "metadata": {},
   "outputs": [],
   "source": [
    "def CalculateEpsilon(n, N):\n",
    "    if N != 0:\n",
    "        return np.sqrt(2*np.log(N*np.ones_like(n)) / n) \n",
    "    else:\n",
    "        Array = np.asarray([0., 0.])\n",
    "        Array[np.fabs(Array) == np.inf] = 0.\n",
    "        return Array\n",
    "\n",
    "\n",
    "def Iterate(A, B):\n",
    "    N = 1\n",
    "    n = np.asarray([1, 1], dtype=np.int32)\n",
    "    mu = np.asarray([A[0], B[0]])\n",
    "    Rewards = []\n",
    "    Js = []\n",
    "    for i in range(1, A.size):\n",
    "        Epsilon = CalculateEpsilon(n, N)\n",
    "        j = np.argmax(mu+Epsilon)\n",
    "        n[j] += 1\n",
    "        N += 1\n",
    "        \n",
    "        if j == 0:\n",
    "            Weight = np.asarray([1., 0.])\n",
    "        else:\n",
    "            Weight = np.asarray([0., 1.])\n",
    "        \n",
    "        Reward = Weight * np.asarray([A[i], B[i]])\n",
    "        mu = (mu*i + Reward)/(i+1)\n",
    "        #print(j)\n",
    "        Rewards.append(np.sum(Reward))\n",
    "        Js.append(j)\n",
    "        \n",
    "    return Rewards, Js"
   ]
  },
  {
   "cell_type": "code",
   "execution_count": 80,
   "metadata": {},
   "outputs": [
    {
     "data": {
      "text/plain": [
       "7992.0"
      ]
     },
     "execution_count": 80,
     "metadata": {},
     "output_type": "execute_result"
    }
   ],
   "source": [
    "Rewards, Js = Iterate(A, B)\n",
    "\n",
    "np.cumsum(Rewards)[-1]"
   ]
  },
  {
   "cell_type": "code",
   "execution_count": 74,
   "metadata": {},
   "outputs": [
    {
     "data": {
      "text/plain": [
       "Text(0,0.5,'Cumulative Reward')"
      ]
     },
     "execution_count": 74,
     "metadata": {},
     "output_type": "execute_result"
    },
    {
     "data": {
      "image/png": "[encoded data removed]",
      "text/plain": [
       "<Figure size 432x288 with 1 Axes>"
      ]
     },
     "metadata": {
      "needs_background": "light"
     },
     "output_type": "display_data"
    }
   ],
   "source": [
    "plt.plot(np.cumsum(Rewards))\n",
    "plt.xlabel(\"Iteration\")\n",
    "plt.ylabel(\"Cumulative Reward\")"
   ]
  },
  {
   "cell_type": "code",
   "execution_count": 84,
   "metadata": {},
   "outputs": [
    {
     "data": {
      "text/plain": [
       "Text(0,0.5,'Chosen Advertisement')"
      ]
     },
     "execution_count": 84,
     "metadata": {},
     "output_type": "execute_result"
    },
    {
     "data": {
      "image/png": "[encoded data removed]",
      "text/plain": [
       "<Figure size 432x288 with 1 Axes>"
      ]
     },
     "metadata": {
      "needs_background": "light"
     },
     "output_type": "display_data"
    }
   ],
   "source": [
    "plt.plot(Js, linestyle = 'None', marker = '.')\n",
    "plt.xlabel(\"Iteration\")\n",
    "plt.ylabel(\"Chosen Advertisement\")"
   ]
  },
  {
   "cell_type": "markdown",
   "metadata": {},
   "source": [
    "We see that exploration of B is still present but becomes more infrequent as the iterations go on."
   ]
  }
 ],
 "metadata": {
  "kernelspec": {
   "display_name": "Python 3",
   "language": "python",
   "name": "python3"
  },
  "language_info": {
   "codemirror_mode": {
    "name": "ipython",
    "version": 3
   },
   "file_extension": ".py",
   "mimetype": "text/x-python",
   "name": "python",
   "nbconvert_exporter": "python",
   "pygments_lexer": "ipython3",
   "version": "3.6.5"
  }
 },
 "nbformat": 4,
 "nbformat_minor": 2
}
