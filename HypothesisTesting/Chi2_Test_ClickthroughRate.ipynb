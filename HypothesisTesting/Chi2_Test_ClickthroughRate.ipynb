{
 "cells": [
  {
   "cell_type": "code",
   "execution_count": 52,
   "metadata": {},
   "outputs": [],
   "source": [
    "import pandas as pd\n",
    "import numpy as np\n",
    "from scipy.stats import chi2"
   ]
  },
  {
   "cell_type": "markdown",
   "metadata": {},
   "source": [
    "Goal: See if click-through rate is significant. Choose Alpha = 0.05"
   ]
  },
  {
   "cell_type": "markdown",
   "metadata": {},
   "source": [
    "Load file"
   ]
  },
  {
   "cell_type": "code",
   "execution_count": 19,
   "metadata": {},
   "outputs": [
    {
     "data": {
      "text/html": [
       "<div>\n",
       "<style scoped>\n",
       "    .dataframe tbody tr th:only-of-type {\n",
       "        vertical-align: middle;\n",
       "    }\n",
       "\n",
       "    .dataframe tbody tr th {\n",
       "        vertical-align: top;\n",
       "    }\n",
       "\n",
       "    .dataframe thead th {\n",
       "        text-align: right;\n",
       "    }\n",
       "</style>\n",
       "<table border=\"1\" class=\"dataframe\">\n",
       "  <thead>\n",
       "    <tr style=\"text-align: right;\">\n",
       "      <th></th>\n",
       "      <th>advertisement_id</th>\n",
       "      <th>action</th>\n",
       "    </tr>\n",
       "  </thead>\n",
       "  <tbody>\n",
       "    <tr>\n",
       "      <th>0</th>\n",
       "      <td>B</td>\n",
       "      <td>1</td>\n",
       "    </tr>\n",
       "    <tr>\n",
       "      <th>1</th>\n",
       "      <td>B</td>\n",
       "      <td>1</td>\n",
       "    </tr>\n",
       "    <tr>\n",
       "      <th>2</th>\n",
       "      <td>A</td>\n",
       "      <td>0</td>\n",
       "    </tr>\n",
       "    <tr>\n",
       "      <th>3</th>\n",
       "      <td>B</td>\n",
       "      <td>0</td>\n",
       "    </tr>\n",
       "    <tr>\n",
       "      <th>4</th>\n",
       "      <td>A</td>\n",
       "      <td>1</td>\n",
       "    </tr>\n",
       "  </tbody>\n",
       "</table>\n",
       "</div>"
      ],
      "text/plain": [
       "  advertisement_id  action\n",
       "0                B       1\n",
       "1                B       1\n",
       "2                A       0\n",
       "3                B       0\n",
       "4                A       1"
      ]
     },
     "execution_count": 19,
     "metadata": {},
     "output_type": "execute_result"
    }
   ],
   "source": [
    "AdvertisementData = pd.read_csv(\"Advertisement.txt\", sep = ',')\n",
    "AdvertisementData.head(5)"
   ]
  },
  {
   "cell_type": "markdown",
   "metadata": {},
   "source": [
    "Find the contingency table"
   ]
  },
  {
   "cell_type": "code",
   "execution_count": 25,
   "metadata": {},
   "outputs": [
    {
     "name": "stdout",
     "output_type": "stream",
     "text": [
      "action              0    1\n",
      "advertisement_id          \n",
      "A                 696  304\n",
      "B                 628  372\n"
     ]
    }
   ],
   "source": [
    "Crosstab = pd.crosstab(AdvertisementData['advertisement_id'], AdvertisementData['action'])\n",
    "print(Crosstab)"
   ]
  },
  {
   "cell_type": "code",
   "execution_count": 26,
   "metadata": {},
   "outputs": [
    {
     "data": {
      "text/plain": [
       "array([[696, 304],\n",
       "       [628, 372]], dtype=int64)"
      ]
     },
     "execution_count": 26,
     "metadata": {},
     "output_type": "execute_result"
    }
   ],
   "source": [
    "Crosstab.values"
   ]
  },
  {
   "cell_type": "markdown",
   "metadata": {},
   "source": [
    "We use a chi-square test to compute "
   ]
  },
  {
   "cell_type": "markdown",
   "metadata": {},
   "source": [
    "Let $Sum_{NC}$ be the sum of all observed no-click values and similarly for $Sum_C$ for the click values over all advertisements. \n",
    "<br>\n",
    "Let $N$ be the total number of advertisements shown for all observations.\n",
    "<br>\n",
    "Let $N_A$ be the sum of all observations for advertisement A \n",
    "<br>\n",
    "Let $N_B$ be the sum of all observations for advertisement B\n",
    "<br>\n",
    "Let $C_A$ represent the number of clicks for advertisement A with $C_B$ for advertisement B\n",
    "<br>\n",
    "Let $NC_A$ represent the number of non-clicks for advertisement A with $NC_B$ for advertisement B\n",
    "<br>\n",
    "\n",
    "The expected number of non-clicks for advertisement A and B is:\n",
    "\n",
    "$E_A = \\frac{Sum_{NC}}{N} * NC_A$\n",
    "<br>\n",
    "$E_B = \\frac{Sum_{NC}}{N} * NC_B$\n",
    "<br>\n",
    "<br>\n",
    "and clicks:\n",
    "<br>\n",
    "<br>\n",
    "$e_A = \\frac{Sum_C}{N} * C_A$\n",
    "<br>\n",
    "$e_B = \\frac{Sum_C}{N} * C_B$\n",
    "<br>\n",
    "<br>\n",
    "The chi-square statistic is then:\n",
    "<br>\n",
    "$\\chi^2 = \\sum \\frac{(E - O)^2}{E}$\n",
    "<br>\n",
    "<br>\n",
    "where $O$ is the observed number of observations for clicks and no-clicks and $E$ is the expectation"
   ]
  },
  {
   "cell_type": "markdown",
   "metadata": {},
   "source": [
    "Create a function to get the p-value"
   ]
  },
  {
   "cell_type": "code",
   "execution_count": 50,
   "metadata": {},
   "outputs": [],
   "source": [
    "def GetTestStatistic(ContingentTable):\n",
    "    A, B, C, D = ContingentTable.flatten()\n",
    "\n",
    "    Numerator = (A*C-B*D)**2 * (A+B+C+D)\n",
    "    Denominator = (A+B)*(C+D)*(A+C)*(B*D)\n",
    "    \n",
    "    \n",
    "    return Numerator/Denominator"
   ]
  },
  {
   "cell_type": "code",
   "execution_count": 54,
   "metadata": {},
   "outputs": [
    {
     "name": "stdout",
     "output_type": "stream",
     "text": [
      "Insignificant\n"
     ]
    }
   ],
   "source": [
    "Chi_2 = GetTestStatistic(Crosstab.values)\n",
    "p_value = chi2.cdf(Chi_2, 1)\n",
    "\n",
    "if p_value < Alpha:\n",
    "    print(\"Signficant\")\n",
    "else:\n",
    "    print(\"Insignificant\")"
   ]
  }
 ],
 "metadata": {
  "kernelspec": {
   "display_name": "Python 3",
   "language": "python",
   "name": "python3"
  },
  "language_info": {
   "codemirror_mode": {
    "name": "ipython",
    "version": 3
   },
   "file_extension": ".py",
   "mimetype": "text/x-python",
   "name": "python",
   "nbconvert_exporter": "python",
   "pygments_lexer": "ipython3",
   "version": "3.6.5"
  }
 },
 "nbformat": 4,
 "nbformat_minor": 2
}
